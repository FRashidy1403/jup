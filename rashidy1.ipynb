{
 "cells": [
  {
   "cell_type": "code",
   "execution_count": 1,
   "metadata": {},
   "outputs": [],
   "source": [
    "# Load library\n",
    "import numpy as np\n",
    "\n",
    "# Create a vector as a row\n",
    "vector_row = np . array ([ 1 , 2 , 3 ])\n",
    "\n",
    "# Create a vector as a column\n",
    "vector_column = np . array ([[ 1 ],\n",
    "                             [ 2 ],\n",
    "                             [ 3 ]])"
   ]
  },
  {
   "cell_type": "code",
   "execution_count": 2,
   "metadata": {},
   "outputs": [
    {
     "data": {
      "text/plain": [
       "array([[1],\n",
       "       [2],\n",
       "       [3]])"
      ]
     },
     "execution_count": 2,
     "metadata": {},
     "output_type": "execute_result"
    }
   ],
   "source": [
    "vector_column"
   ]
  },
  {
   "cell_type": "code",
   "execution_count": 3,
   "metadata": {},
   "outputs": [],
   "source": [
    "# Load library\n",
    "import numpy as np\n",
    "\n",
    "# Create a matrix\n",
    "matrix = np . array ([[ 1 , 2 ],\n",
    "                      [ 1 , 2 ],\n",
    "                      [ 1 , 2 ]])"
   ]
  },
  {
   "cell_type": "code",
   "execution_count": 4,
   "metadata": {},
   "outputs": [
    {
     "data": {
      "text/plain": [
       "numpy.ndarray"
      ]
     },
     "execution_count": 4,
     "metadata": {},
     "output_type": "execute_result"
    }
   ],
   "source": [
    "type(matrix)"
   ]
  },
  {
   "cell_type": "code",
   "execution_count": 7,
   "metadata": {},
   "outputs": [],
   "source": [
    "# Load library\n",
    "import numpy as np\n",
    "\n",
    "# Create a matrix\n",
    "matrix = np . array ([[ 1 , 2 ],\n",
    "                      [ 1 , 2 ],\n",
    "                      [ 1 , 2 ]])"
   ]
  },
  {
   "cell_type": "code",
   "execution_count": 8,
   "metadata": {},
   "outputs": [
    {
     "data": {
      "text/plain": [
       "array([[1, 2],\n",
       "       [1, 2],\n",
       "       [1, 2]])"
      ]
     },
     "execution_count": 8,
     "metadata": {},
     "output_type": "execute_result"
    }
   ],
   "source": [
    "matrix"
   ]
  },
  {
   "cell_type": "code",
   "execution_count": 17,
   "metadata": {},
   "outputs": [],
   "source": [
    "matrix_object = np . asmatrix ([[ 1 , 2 ],\n",
    "                                [ 1 , 2 ],\n",
    "                                [ 1 , 2 ]])\n"
   ]
  },
  {
   "cell_type": "code",
   "execution_count": 15,
   "metadata": {},
   "outputs": [
    {
     "data": {
      "text/plain": [
       "matrix([[1, 2],\n",
       "        [1, 2],\n",
       "        [1, 2]])"
      ]
     },
     "execution_count": 15,
     "metadata": {},
     "output_type": "execute_result"
    }
   ],
   "source": [
    "matrix_object"
   ]
  },
  {
   "cell_type": "code",
   "execution_count": 11,
   "metadata": {},
   "outputs": [],
   "source": [
    "# Load libraries\n",
    "import numpy as np\n",
    "\n",
    "from scipy import sparse\n",
    "\n",
    "# Create a matrix\n",
    "matrix = np . array ([[ 0 , 0 ],\n",
    "                      [ 0 , 1 ],\n",
    "                      [ 3 , 0 ]])\n",
    "\n",
    "# Create compressed sparse row (CSR) matrix\n",
    "matrix_sparse = sparse . csr_matrix ( matrix )"
   ]
  },
  {
   "cell_type": "code",
   "execution_count": 12,
   "metadata": {},
   "outputs": [
    {
     "data": {
      "text/plain": [
       "<Compressed Sparse Row sparse matrix of dtype 'int64'\n",
       "\twith 2 stored elements and shape (3, 2)>"
      ]
     },
     "execution_count": 12,
     "metadata": {},
     "output_type": "execute_result"
    }
   ],
   "source": [
    "matrix_sparse"
   ]
  },
  {
   "cell_type": "code",
   "execution_count": 8,
   "metadata": {},
   "outputs": [
    {
     "name": "stdout",
     "output_type": "stream",
     "text": [
      "<Compressed Sparse Row sparse matrix of dtype 'int64'\n",
      "\twith 2 stored elements and shape (3, 2)>\n",
      "  Coords\tValues\n",
      "  (1, 1)\t1\n",
      "  (2, 0)\t3\n"
     ]
    }
   ],
   "source": [
    "print(matrix_sparse)"
   ]
  },
  {
   "cell_type": "code",
   "execution_count": null,
   "metadata": {},
   "outputs": [
    {
     "name": "stdout",
     "output_type": "stream",
     "text": [
      "<Compressed Sparse Row sparse matrix of dtype 'int64'\n",
      "\twith 2 stored elements and shape (3, 2)>\n",
      "  Coords\tValues\n",
      "  (1, 1)\t1\n",
      "  (2, 0)\t3\n",
      "<Compressed Sparse Row sparse matrix of dtype 'int64'\n",
      "\twith 2 stored elements and shape (3, 10)>\n",
      "  Coords\tValues\n",
      "  (1, 1)\t1\n",
      "  (2, 0)\t3\n"
     ]
    }
   ],
   "source": [
    "matrix_large = np . array ([[ 0 , 0 , 0 , 0 , 0 , 0 , 0 , 0 , 0 , 0 ],\n",
    "                            [ 0 , 1 , 0 , 0 , 0 , 0 , 0 , 0 , 0 , 0 ],\n",
    "                            [ 3 , 0 , 0 , 0 , 0 , 0 , 0 , 0 , 0 , 0 ]])\n",
    "# Create compressed sparse row (CSR) matrix\n",
    "matrix_large_sparse = sparse . csr_matrix ( matrix_large )\n",
    "# View original sparse matrix\n",
    "print ( matrix_sparse )\n",
    " \n",
    "# View larger sparse matrix\n",
    "print ( matrix_large_sparse )\n",
    " "
   ]
  },
  {
   "cell_type": "code",
   "execution_count": null,
   "metadata": {},
   "outputs": [],
   "source": []
  }
 ],
 "metadata": {
  "kernelspec": {
   "display_name": "Python 3",
   "language": "python",
   "name": "python3"
  },
  "language_info": {
   "codemirror_mode": {
    "name": "ipython",
    "version": 3
   },
   "file_extension": ".py",
   "mimetype": "text/x-python",
   "name": "python",
   "nbconvert_exporter": "python",
   "pygments_lexer": "ipython3",
   "version": "3.10.7"
  }
 },
 "nbformat": 4,
 "nbformat_minor": 2
}
